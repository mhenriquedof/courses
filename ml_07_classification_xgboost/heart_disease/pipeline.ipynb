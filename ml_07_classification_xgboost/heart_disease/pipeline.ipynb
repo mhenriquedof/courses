{
 "cells": [
  {
   "cell_type": "code",
   "execution_count": null,
   "metadata": {},
   "outputs": [],
   "source": [
    "from sklearn.pipeline import Pipeline\n",
    "from sklearn.model_selection import cross_val_score\n",
    "from sklearn.preprocessing import OneHotEncoder\n",
    "from imblearn.over_sampling import SMOTE\n",
    "import xgboost as xgb\n",
    "\n",
    "pipeline = Pipeline([\n",
    "                     ('onehot', OneHotEncoder()),\n",
    "                     ('oversample', SMOTE()),\n",
    "                     ('xgb', xgb.XGBClassifier())\n",
    "                    ])\n",
    "\n",
    "cross_val_scores = cross_val_score(pipeline, X, y, scoring='recall', cv=3)"
   ]
  }
 ],
 "metadata": {
  "language_info": {
   "name": "python"
  }
 },
 "nbformat": 4,
 "nbformat_minor": 2
}
