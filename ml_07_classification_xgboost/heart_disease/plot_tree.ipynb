{
 "cells": [
  {
   "cell_type": "code",
   "execution_count": null,
   "metadata": {},
   "outputs": [],
   "source": [
    "import matplotlib.pyplot as plt\n",
    "from sklearn.tree import plot_tree\n",
    "\n",
    "features = X_treino.columns\n",
    "classes = [str(c) for c in dt.classes_]\n",
    "\n",
    "plt.figure(figsize=(12, 5))\n",
    "\n",
    "plot_tree(dt,\n",
    "          feature_names=features,\n",
    "          class_names=classes,\n",
    "          rounded=True, \n",
    "          filled=True, \n",
    "          proportion=True);"
   ]
  },
  {
   "cell_type": "code",
   "execution_count": null,
   "metadata": {},
   "outputs": [],
   "source": [
    "import matplotlib.pyplot as plt\n",
    "\n",
    "# Configure o tamanho da figura e a resolução\n",
    "plt.figure(figsize=(15, 5), dpi=300)  # Ajuste o tamanho e a resolução conforme necessário\n",
    "\n",
    "# Plotar a árvore\n",
    "xgb.plot_tree(xg_cl, num_trees=3, ax=plt.gca())\n",
    "plt.show()"
   ]
  }
 ],
 "metadata": {
  "language_info": {
   "name": "python"
  }
 },
 "nbformat": 4,
 "nbformat_minor": 2
}
